{
 "cells": [
  {
   "cell_type": "code",
   "execution_count": 4,
   "metadata": {},
   "outputs": [],
   "source": [
    "# Import all dependencies\n",
    "import os\n",
    "import tarfile\n",
    "from six.moves import urllib # ensures compatibility with Py 2.0 and Py 3.0\n",
    "\n",
    "import pandas as pd"
   ]
  },
  {
   "cell_type": "code",
   "execution_count": 2,
   "metadata": {},
   "outputs": [],
   "source": [
    "datasource_url = \"https://github.com/ageron/handson-ml/blob/master/datasets/housing/housing.tgz?raw=true\"\n",
    "dest_datapath = \"datasets\"\n",
    "dest_datafilename = \"housing.csv\""
   ]
  },
  {
   "cell_type": "code",
   "execution_count": 3,
   "metadata": {},
   "outputs": [],
   "source": [
    "# function to download and extract the tar file to destination folder\n",
    "def fetch_extract_datafile(downloadURL, destpath):\n",
    "    ''' Function downloads tar file from specified url and extracts the file to the given destination path'''\n",
    "    \n",
    "    # check if destination dir exist, if not create it\n",
    "    if not os.path.isdir(destpath):\n",
    "        os.makedirs(destpath)\n",
    "       \n",
    "    # specify the path and filename where tar file will be downloaded\n",
    "    tgz_path = os.path.join(destpath, \"housing.tgz\")\n",
    "    \n",
    "    # using urllib download the housing file\n",
    "    urllib.request.urlretrieve(downloadURL, tgz_path)\n",
    "    \n",
    "    # open the tar file and assign it to a handle\n",
    "    tgz_handle = tarfile.open(tgz_path)\n",
    "    \n",
    "    #extract all files\n",
    "    tgz_handle.extractall(path = destpath)\n",
    "    \n",
    "    # close handle\n",
    "    tgz_handle.close()"
   ]
  },
  {
   "cell_type": "code",
   "execution_count": 5,
   "metadata": {},
   "outputs": [],
   "source": [
    "# call fetch and extract function to download and extract data file\n",
    "fetch_extract_datafile(datasource_url, dest_datapath)"
   ]
  },
  {
   "cell_type": "code",
   "execution_count": 7,
   "metadata": {},
   "outputs": [
    {
     "data": {
      "text/plain": [
       "['housing.csv', 'housing.tgz']"
      ]
     },
     "execution_count": 7,
     "metadata": {},
     "output_type": "execute_result"
    }
   ],
   "source": [
    "#check to see if file is extracted\n",
    "os.listdir(dest_datapath)"
   ]
  },
  {
   "cell_type": "code",
   "execution_count": null,
   "metadata": {},
   "outputs": [],
   "source": []
  }
 ],
 "metadata": {
  "kernelspec": {
   "display_name": "Python 3",
   "language": "python",
   "name": "python3"
  },
  "language_info": {
   "codemirror_mode": {
    "name": "ipython",
    "version": 3
   },
   "file_extension": ".py",
   "mimetype": "text/x-python",
   "name": "python",
   "nbconvert_exporter": "python",
   "pygments_lexer": "ipython3",
   "version": "3.6.8"
  }
 },
 "nbformat": 4,
 "nbformat_minor": 2
}
